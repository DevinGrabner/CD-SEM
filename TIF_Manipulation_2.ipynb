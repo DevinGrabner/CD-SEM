{
 "cells": [
  {
   "cell_type": "code",
   "execution_count": null,
   "metadata": {},
   "outputs": [],
   "source": [
    "try:\n",
    "    import SEM_Image as SI\n",
    "    \n",
    "except ImportError:\n",
    "    import sys\n",
    "    # Python version 3.10.12 is the newest version supported\n",
    "    !{sys.executable} -m pip install --user --upgrade matplotlib tifffile"
   ]
  },
  {
   "attachments": {},
   "cell_type": "markdown",
   "metadata": {},
   "source": [
    "Select the .tif file that you want to analyse.\n",
    "\n",
    "\n",
    "#### **<u>Notes</u>**\n",
    "Image1.display() - I should be able to just call it like this and have the function use self.image instead of the imported 'image'"
   ]
  },
  {
   "cell_type": "code",
   "execution_count": null,
   "metadata": {},
   "outputs": [],
   "source": [
    "#file_paths = SEM_Image.sem_image_selector()\n",
    "Image1 = SI.SEMImageDetails() # Initializes all the variables for the object\n",
    "Image1.display(Image1.image, bar = True) # Displays the object image with scale bar\n",
    "Image1() # This will run all the analysis\n",
    "Image1.display(Image1.image_FFT)"
   ]
  },
  {
   "cell_type": "code",
   "execution_count": null,
   "metadata": {},
   "outputs": [],
   "source": []
  }
 ],
 "metadata": {
  "kernelspec": {
   "display_name": "xray",
   "language": "python",
   "name": "python3"
  },
  "language_info": {
   "codemirror_mode": {
    "name": "ipython",
    "version": 3
   },
   "file_extension": ".py",
   "mimetype": "text/x-python",
   "name": "python",
   "nbconvert_exporter": "python",
   "pygments_lexer": "ipython3",
   "version": "3.10.12"
  },
  "orig_nbformat": 4
 },
 "nbformat": 4,
 "nbformat_minor": 2
}

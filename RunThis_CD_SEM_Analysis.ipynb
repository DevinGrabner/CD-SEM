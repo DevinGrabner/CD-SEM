{
 "cells": [
  {
   "cell_type": "code",
   "execution_count": 1,
   "metadata": {},
   "outputs": [],
   "source": [
    "try:\n",
    "    import SEM_Image as SI\n",
    "    \n",
    "except ImportError:\n",
    "    import sys\n",
    "    # Python version 3.10.12 is the newest version supported\n",
    "    !{sys.executable} -m pip install --user --upgrade matplotlib tifffile"
   ]
  },
  {
   "attachments": {},
   "cell_type": "markdown",
   "metadata": {},
   "source": [
    "Select the .tif file that you want to analyse."
   ]
  },
  {
   "cell_type": "code",
   "execution_count": 4,
   "metadata": {},
   "outputs": [
    {
     "ename": "PermissionError",
     "evalue": "[Errno 13] Permission denied: 'C:\\\\Users\\\\Devin Grabner\\\\Washington State University (email.wsu.edu)\\\\Carbon Lab Research Group - Documents\\\\Devin Grabner\\\\Data\\\\CD-AFM Project\\\\Python Code'",
     "output_type": "error",
     "traceback": [
      "\u001b[1;31m---------------------------------------------------------------------------\u001b[0m",
      "\u001b[1;31mPermissionError\u001b[0m                           Traceback (most recent call last)",
      "Cell \u001b[1;32mIn[4], line 1\u001b[0m\n\u001b[1;32m----> 1\u001b[0m Image1 \u001b[39m=\u001b[39m SI\u001b[39m.\u001b[39;49mSEMImageDetails()  \u001b[39m# Initializes all the variables for the object\u001b[39;00m\n\u001b[0;32m      2\u001b[0m Image1()\n",
      "File \u001b[1;32mc:\\Users\\Devin Grabner\\Washington State University (email.wsu.edu)\\Carbon Lab Research Group - Documents\\Devin Grabner\\Data\\CD-AFM Project\\Python Code\\SEM_Image.py:29\u001b[0m, in \u001b[0;36mSEMImageDetails.__init__\u001b[1;34m(self)\u001b[0m\n\u001b[0;32m     27\u001b[0m \u001b[39mdef\u001b[39;00m \u001b[39m__init__\u001b[39m(\u001b[39mself\u001b[39m):\n\u001b[0;32m     28\u001b[0m     \u001b[39mself\u001b[39m\u001b[39m.\u001b[39mpath \u001b[39m=\u001b[39m \u001b[39mself\u001b[39m\u001b[39m.\u001b[39m_sem_image_selector()\n\u001b[1;32m---> 29\u001b[0m     \u001b[39mself\u001b[39m\u001b[39m.\u001b[39mheight \u001b[39m=\u001b[39m \u001b[39mself\u001b[39;49m\u001b[39m.\u001b[39;49m_sem_image_tag(\u001b[39mself\u001b[39;49m\u001b[39m.\u001b[39;49mpath, TAG_NAMES[\u001b[39m0\u001b[39;49m])\n\u001b[0;32m     30\u001b[0m     \u001b[39mself\u001b[39m\u001b[39m.\u001b[39mwidth \u001b[39m=\u001b[39m \u001b[39mself\u001b[39m\u001b[39m.\u001b[39m_sem_image_tag(\u001b[39mself\u001b[39m\u001b[39m.\u001b[39mpath, TAG_NAMES[\u001b[39m1\u001b[39m])\n\u001b[0;32m     31\u001b[0m     \u001b[39mself\u001b[39m\u001b[39m.\u001b[39mpix_scale, \u001b[39mself\u001b[39m\u001b[39m.\u001b[39mpix_size, \u001b[39mself\u001b[39m\u001b[39m.\u001b[39mpix_dimen \u001b[39m=\u001b[39m \u001b[39mself\u001b[39m\u001b[39m.\u001b[39m_pix_data(\n\u001b[0;32m     32\u001b[0m         \u001b[39mself\u001b[39m\u001b[39m.\u001b[39mpath, TAG_NAMES[\u001b[39m2\u001b[39m]\n\u001b[0;32m     33\u001b[0m     )\n",
      "File \u001b[1;32mc:\\Users\\Devin Grabner\\Washington State University (email.wsu.edu)\\Carbon Lab Research Group - Documents\\Devin Grabner\\Data\\CD-AFM Project\\Python Code\\SEM_Image.py:148\u001b[0m, in \u001b[0;36mSEMImageDetails._sem_image_tag\u001b[1;34m(self, file_path, tag_name)\u001b[0m\n\u001b[0;32m    138\u001b[0m \u001b[39mdef\u001b[39;00m \u001b[39m_sem_image_tag\u001b[39m(\u001b[39mself\u001b[39m, file_path: \u001b[39mstr\u001b[39m, tag_name: \u001b[39mstr\u001b[39m) \u001b[39m-\u001b[39m\u001b[39m>\u001b[39m \u001b[39many\u001b[39m:\n\u001b[0;32m    139\u001b[0m \u001b[39m    \u001b[39m\u001b[39m\"\"\"Fetches information from the .tif file header\u001b[39;00m\n\u001b[0;32m    140\u001b[0m \n\u001b[0;32m    141\u001b[0m \u001b[39m    Args:\u001b[39;00m\n\u001b[1;32m   (...)\u001b[0m\n\u001b[0;32m    146\u001b[0m \u001b[39m        any: the value for the input tag\u001b[39;00m\n\u001b[0;32m    147\u001b[0m \u001b[39m    \"\"\"\u001b[39;00m\n\u001b[1;32m--> 148\u001b[0m     metadata \u001b[39m=\u001b[39m tifffile\u001b[39m.\u001b[39;49mTiffFile(file_path)\n\u001b[0;32m    149\u001b[0m     \u001b[39mreturn\u001b[39;00m metadata\u001b[39m.\u001b[39mpages[\u001b[39m0\u001b[39m]\u001b[39m.\u001b[39mtags[tag_name]\u001b[39m.\u001b[39mvalue\n",
      "File \u001b[1;32mc:\\Users\\Devin Grabner\\anaconda3\\envs\\xray\\lib\\site-packages\\tifffile\\tifffile.py:3000\u001b[0m, in \u001b[0;36mTiffFile.__init__\u001b[1;34m(self, arg, mode, name, offset, size, _multifile, _useframes, _master, **kwargs)\u001b[0m\n\u001b[0;32m   2997\u001b[0m \u001b[39mif\u001b[39;00m mode \u001b[39mnot\u001b[39;00m \u001b[39min\u001b[39;00m (\u001b[39mNone\u001b[39;00m, \u001b[39m'\u001b[39m\u001b[39mrb\u001b[39m\u001b[39m'\u001b[39m, \u001b[39m'\u001b[39m\u001b[39mr+b\u001b[39m\u001b[39m'\u001b[39m):\n\u001b[0;32m   2998\u001b[0m     \u001b[39mraise\u001b[39;00m \u001b[39mValueError\u001b[39;00m(\u001b[39mf\u001b[39m\u001b[39m'\u001b[39m\u001b[39minvalid mode \u001b[39m\u001b[39m{\u001b[39;00mmode\u001b[39m!r}\u001b[39;00m\u001b[39m'\u001b[39m)\n\u001b[1;32m-> 3000\u001b[0m fh \u001b[39m=\u001b[39m FileHandle(arg, mode\u001b[39m=\u001b[39;49mmode, name\u001b[39m=\u001b[39;49mname, offset\u001b[39m=\u001b[39;49moffset, size\u001b[39m=\u001b[39;49msize)\n\u001b[0;32m   3001\u001b[0m \u001b[39mself\u001b[39m\u001b[39m.\u001b[39m_fh \u001b[39m=\u001b[39m fh\n\u001b[0;32m   3002\u001b[0m \u001b[39mself\u001b[39m\u001b[39m.\u001b[39m_multifile \u001b[39m=\u001b[39m \u001b[39mbool\u001b[39m(_multifile)\n",
      "File \u001b[1;32mc:\\Users\\Devin Grabner\\anaconda3\\envs\\xray\\lib\\site-packages\\tifffile\\tifffile.py:9537\u001b[0m, in \u001b[0;36mFileHandle.__init__\u001b[1;34m(self, file, mode, name, offset, size)\u001b[0m\n\u001b[0;32m   9535\u001b[0m \u001b[39mself\u001b[39m\u001b[39m.\u001b[39mis_file \u001b[39m=\u001b[39m \u001b[39mNone\u001b[39;00m\n\u001b[0;32m   9536\u001b[0m \u001b[39mself\u001b[39m\u001b[39m.\u001b[39m_lock \u001b[39m=\u001b[39m NullContext()\n\u001b[1;32m-> 9537\u001b[0m \u001b[39mself\u001b[39;49m\u001b[39m.\u001b[39;49mopen()\n",
      "File \u001b[1;32mc:\\Users\\Devin Grabner\\anaconda3\\envs\\xray\\lib\\site-packages\\tifffile\\tifffile.py:9550\u001b[0m, in \u001b[0;36mFileHandle.open\u001b[1;34m(self)\u001b[0m\n\u001b[0;32m   9548\u001b[0m \u001b[39mself\u001b[39m\u001b[39m.\u001b[39m_file \u001b[39m=\u001b[39m os\u001b[39m.\u001b[39mpath\u001b[39m.\u001b[39mrealpath(\u001b[39mself\u001b[39m\u001b[39m.\u001b[39m_file)\n\u001b[0;32m   9549\u001b[0m \u001b[39mself\u001b[39m\u001b[39m.\u001b[39m_dir, \u001b[39mself\u001b[39m\u001b[39m.\u001b[39m_name \u001b[39m=\u001b[39m os\u001b[39m.\u001b[39mpath\u001b[39m.\u001b[39msplit(\u001b[39mself\u001b[39m\u001b[39m.\u001b[39m_file)\n\u001b[1;32m-> 9550\u001b[0m \u001b[39mself\u001b[39m\u001b[39m.\u001b[39m_fh \u001b[39m=\u001b[39m \u001b[39mopen\u001b[39;49m(\u001b[39mself\u001b[39;49m\u001b[39m.\u001b[39;49m_file, \u001b[39mself\u001b[39;49m\u001b[39m.\u001b[39;49m_mode)\n\u001b[0;32m   9551\u001b[0m \u001b[39mself\u001b[39m\u001b[39m.\u001b[39m_close \u001b[39m=\u001b[39m \u001b[39mTrue\u001b[39;00m\n\u001b[0;32m   9552\u001b[0m \u001b[39mif\u001b[39;00m \u001b[39mself\u001b[39m\u001b[39m.\u001b[39m_offset \u001b[39mis\u001b[39;00m \u001b[39mNone\u001b[39;00m:\n",
      "\u001b[1;31mPermissionError\u001b[0m: [Errno 13] Permission denied: 'C:\\\\Users\\\\Devin Grabner\\\\Washington State University (email.wsu.edu)\\\\Carbon Lab Research Group - Documents\\\\Devin Grabner\\\\Data\\\\CD-AFM Project\\\\Python Code'"
     ]
    }
   ],
   "source": [
    "Image1 = SI.SEMImageDetails()  # Initializes all the variables for the object\n",
    "Image1()  # This will run all the analysis"
   ]
  },
  {
   "cell_type": "code",
   "execution_count": null,
   "metadata": {},
   "outputs": [],
   "source": []
  }
 ],
 "metadata": {
  "kernelspec": {
   "display_name": "xray",
   "language": "python",
   "name": "python3"
  },
  "language_info": {
   "codemirror_mode": {
    "name": "ipython",
    "version": 3
   },
   "file_extension": ".py",
   "mimetype": "text/x-python",
   "name": "python",
   "nbconvert_exporter": "python",
   "pygments_lexer": "ipython3",
   "version": "3.10.12"
  },
  "orig_nbformat": 4
 },
 "nbformat": 4,
 "nbformat_minor": 2
}
